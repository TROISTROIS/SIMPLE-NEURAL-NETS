{
 "cells": [
  {
   "cell_type": "code",
   "execution_count": 49,
   "id": "26927331",
   "metadata": {},
   "outputs": [],
   "source": [
    "import numpy as np\n",
    "import pandas as pd\n",
    "import seaborn as sns\n",
    "import tensorflow as tf\n",
    "from tensorflow import keras\n",
    "import matplotlib.pyplot as plt\n",
    "%matplotlib inline"
   ]
  },
  {
   "cell_type": "code",
   "execution_count": 50,
   "id": "a795bc09",
   "metadata": {},
   "outputs": [],
   "source": [
    "# load X and Y from the keras mnist datasets\n",
    "(XTrain,YTrain),(XTest,YTest)=keras.datasets.mnist.load_data()"
   ]
  },
  {
   "cell_type": "code",
   "execution_count": 51,
   "id": "0593df77",
   "metadata": {},
   "outputs": [
    {
     "data": {
      "text/plain": [
       "(60000, 28, 28)"
      ]
     },
     "execution_count": 51,
     "metadata": {},
     "output_type": "execute_result"
    }
   ],
   "source": [
    "XTrain.shape"
   ]
  },
  {
   "cell_type": "code",
   "execution_count": 52,
   "id": "233c1ba9",
   "metadata": {},
   "outputs": [],
   "source": [
    "# feature scaling to improve accuracy\n",
    "XTrain=XTrain/255\n",
    "XTest=XTest/255"
   ]
  },
  {
   "cell_type": "code",
   "execution_count": 53,
   "id": "e78a8146",
   "metadata": {},
   "outputs": [
    {
     "name": "stdout",
     "output_type": "stream",
     "text": [
      "Epoch 1/5\n",
      "1875/1875 [==============================] - 8s 4ms/step - loss: 0.2198 - accuracy: 0.9331\n",
      "Epoch 2/5\n",
      "1875/1875 [==============================] - 8s 4ms/step - loss: 0.1018 - accuracy: 0.9695\n",
      "Epoch 3/5\n",
      "1875/1875 [==============================] - 11s 6ms/step - loss: 0.0736 - accuracy: 0.9773\n",
      "Epoch 4/5\n",
      "1875/1875 [==============================] - 9s 5ms/step - loss: 0.0582 - accuracy: 0.9824\n",
      "Epoch 5/5\n",
      "1875/1875 [==============================] - 8s 4ms/step - loss: 0.0496 - accuracy: 0.9851\n"
     ]
    },
    {
     "data": {
      "text/plain": [
       "<keras.callbacks.History at 0x1d69c227520>"
      ]
     },
     "execution_count": 53,
     "metadata": {},
     "output_type": "execute_result"
    }
   ],
   "source": [
    "model=keras.Sequential([\n",
    "    keras.layers.Flatten(input_shape=(28,28)),\n",
    "    keras.layers.Dense(200,activation='relu'),\n",
    "    keras.layers.Dense(200,activation='relu'),\n",
    "    keras.layers.Dense(200,activation='relu'),\n",
    "    keras.layers.Dense(100,activation='relu'),\n",
    "    keras.layers.Dense(10,activation='sigmoid')\n",
    "])\n",
    "model.compile(\n",
    "    optimizer='adam',\n",
    "    loss='sparse_categorical_crossentropy',\n",
    "    metrics=['accuracy']\n",
    ")\n",
    "model.fit(XTrain,YTrain,epochs=5)"
   ]
  },
  {
   "cell_type": "code",
   "execution_count": 54,
   "id": "1397e479",
   "metadata": {},
   "outputs": [
    {
     "name": "stdout",
     "output_type": "stream",
     "text": [
      "313/313 [==============================] - 1s 3ms/step - loss: 0.0822 - accuracy: 0.9781\n"
     ]
    },
    {
     "data": {
      "text/plain": [
       "[0.08221310377120972, 0.9781000018119812]"
      ]
     },
     "execution_count": 54,
     "metadata": {},
     "output_type": "execute_result"
    }
   ],
   "source": [
    "model.evaluate(XTest,YTest)"
   ]
  },
  {
   "cell_type": "code",
   "execution_count": 55,
   "id": "f9ff50be",
   "metadata": {},
   "outputs": [
    {
     "data": {
      "text/plain": [
       "<matplotlib.image.AxesImage at 0x1d69d72aa60>"
      ]
     },
     "execution_count": 55,
     "metadata": {},
     "output_type": "execute_result"
    },
    {
     "data": {
      "image/png": "[encoded data removed]",
      "text/plain": [
       "<Figure size 288x288 with 1 Axes>"
      ]
     },
     "metadata": {
      "needs_background": "light"
     },
     "output_type": "display_data"
    }
   ],
   "source": [
    "plt.matshow(XTest[9])"
   ]
  },
  {
   "cell_type": "code",
   "execution_count": 56,
   "id": "cedb120f",
   "metadata": {},
   "outputs": [
    {
     "name": "stdout",
     "output_type": "stream",
     "text": [
      "313/313 [==============================] - 1s 3ms/step\n"
     ]
    },
    {
     "data": {
      "text/plain": [
       "array([3.05707343e-02, 1.44490913e-01, 1.23612344e-01, 4.80987355e-02,\n",
       "       9.56002474e-01, 2.09008949e-03, 3.25225756e-06, 7.43097901e-01,\n",
       "       4.11051214e-02, 9.99994636e-01], dtype=float32)"
      ]
     },
     "execution_count": 56,
     "metadata": {},
     "output_type": "execute_result"
    }
   ],
   "source": [
    "# predict on Test values\n",
    "YPred=model.predict(XTest)\n",
    "YPred[9]"
   ]
  },
  {
   "cell_type": "code",
   "execution_count": 57,
   "id": "d07e50f7",
   "metadata": {},
   "outputs": [
    {
     "data": {
      "text/plain": [
       "0"
      ]
     },
     "execution_count": 57,
     "metadata": {},
     "output_type": "execute_result"
    }
   ],
   "source": [
    "np.argmax(YPred[10])"
   ]
  },
  {
   "cell_type": "code",
   "execution_count": 58,
   "id": "8bb51dcf",
   "metadata": {},
   "outputs": [
    {
     "data": {
      "text/plain": [
       "[7, 2, 1, 0, 4, 1, 4, 9, 5]"
      ]
     },
     "execution_count": 58,
     "metadata": {},
     "output_type": "execute_result"
    }
   ],
   "source": [
    "YPred_labels=[np.argmax(i) for i in YPred]\n",
    "YPred_labels[:9]"
   ]
  },
  {
   "cell_type": "code",
   "execution_count": 59,
   "id": "ff09813c",
   "metadata": {},
   "outputs": [
    {
     "data": {
      "text/plain": [
       "<tf.Tensor: shape=(10, 10), dtype=int32, numpy=\n",
       "array([[ 969,    0,    0,    2,    1,    2,    1,    0,    3,    2],\n",
       "       [   0, 1120,    3,    2,    0,    1,    2,    1,    6,    0],\n",
       "       [   2,    0, 1021,    2,    0,    1,    0,    3,    3,    0],\n",
       "       [   0,    0,    6,  984,    0,    9,    0,    5,    6,    0],\n",
       "       [   0,    0,    2,    0,  970,    0,    5,    0,    0,    5],\n",
       "       [   1,    0,    0,    6,    0,  883,    1,    0,    0,    1],\n",
       "       [   3,    3,    0,    1,    3,   10,  932,    0,    6,    0],\n",
       "       [   1,    2,   15,    0,    2,    0,    0,  997,    5,    6],\n",
       "       [   0,    0,    8,    1,    3,   14,    1,    2,  943,    2],\n",
       "       [   2,    3,    0,    2,   17,   10,    0,    4,    9,  962]])>"
      ]
     },
     "execution_count": 59,
     "metadata": {},
     "output_type": "execute_result"
    }
   ],
   "source": [
    "confmatrix=tf.math.confusion_matrix(labels=YTest,predictions=YPred_labels)\n",
    "confmatrix"
   ]
  },
  {
   "cell_type": "code",
   "execution_count": 60,
   "id": "ebe59e35",
   "metadata": {},
   "outputs": [
    {
     "data": {
      "text/plain": [
       "Text(69.0, 0.5, 'Actual Value')"
      ]
     },
     "execution_count": 60,
     "metadata": {},
     "output_type": "execute_result"
    },
    {
     "data": {
      "image/png": "[encoded data removed]",
      "text/plain": [
       "<Figure size 720x720 with 2 Axes>"
      ]
     },
     "metadata": {
      "needs_background": "light"
     },
     "output_type": "display_data"
    }
   ],
   "source": [
    "# heatmap\n",
    "plt.figure(figsize=(10,10))\n",
    "sns.heatmap(confmatrix,annot=True,fmt='d')\n",
    "plt.xlabel('Predicted')\n",
    "plt.ylabel(\"Actual Value\")"
   ]
  },
  {
   "cell_type": "code",
   "execution_count": null,
   "id": "c6b03477",
   "metadata": {},
   "outputs": [],
   "source": []
  }
 ],
 "metadata": {
  "kernelspec": {
   "display_name": "Python 3 (ipykernel)",
   "language": "python",
   "name": "python3"
  },
  "language_info": {
   "codemirror_mode": {
    "name": "ipython",
    "version": 3
   },
   "file_extension": ".py",
   "mimetype": "text/x-python",
   "name": "python",
   "nbconvert_exporter": "python",
   "pygments_lexer": "ipython3",
   "version": "3.9.12"
  }
 },
 "nbformat": 4,
 "nbformat_minor": 5
}
